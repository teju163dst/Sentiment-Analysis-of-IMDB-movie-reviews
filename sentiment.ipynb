{
 "cells": [
  {
   "cell_type": "markdown",
   "source": [
    "Importing necessary libraries"
   ],
   "metadata": {}
  },
  {
   "cell_type": "code",
   "execution_count": 1,
   "source": [
    "import tensorflow as tf"
   ],
   "outputs": [],
   "metadata": {}
  },
  {
   "cell_type": "code",
   "execution_count": 2,
   "source": [
    "import numpy as np\r\n",
    "import pandas as pd\r\n",
    "import matplotlib.pyplot as plt\r\n",
    "%matplotlib inline\r\n",
    "import tensorflow.keras as keras"
   ],
   "outputs": [],
   "metadata": {}
  },
  {
   "cell_type": "markdown",
   "source": [
    "Importing the data files"
   ],
   "metadata": {}
  },
  {
   "cell_type": "code",
   "execution_count": 3,
   "source": [
    "imdb_reviews=pd.read_csv('imdb_reviews.csv')\r\n",
    "test_reviews=pd.read_csv('test_reviews.csv')"
   ],
   "outputs": [],
   "metadata": {}
  },
  {
   "cell_type": "code",
   "execution_count": 4,
   "source": [
    "imdb_reviews.head()"
   ],
   "outputs": [
    {
     "output_type": "execute_result",
     "data": {
      "text/html": [
       "<div>\n",
       "<style scoped>\n",
       "    .dataframe tbody tr th:only-of-type {\n",
       "        vertical-align: middle;\n",
       "    }\n",
       "\n",
       "    .dataframe tbody tr th {\n",
       "        vertical-align: top;\n",
       "    }\n",
       "\n",
       "    .dataframe thead th {\n",
       "        text-align: right;\n",
       "    }\n",
       "</style>\n",
       "<table border=\"1\" class=\"dataframe\">\n",
       "  <thead>\n",
       "    <tr style=\"text-align: right;\">\n",
       "      <th></th>\n",
       "      <th>Reviews</th>\n",
       "      <th>Sentiment</th>\n",
       "    </tr>\n",
       "  </thead>\n",
       "  <tbody>\n",
       "    <tr>\n",
       "      <th>0</th>\n",
       "      <td>&lt;START this film was just brilliant casting lo...</td>\n",
       "      <td>positive</td>\n",
       "    </tr>\n",
       "    <tr>\n",
       "      <th>1</th>\n",
       "      <td>&lt;START big hair big boobs bad music and a gian...</td>\n",
       "      <td>negative</td>\n",
       "    </tr>\n",
       "    <tr>\n",
       "      <th>2</th>\n",
       "      <td>&lt;START this has to be one of the worst films o...</td>\n",
       "      <td>negative</td>\n",
       "    </tr>\n",
       "    <tr>\n",
       "      <th>3</th>\n",
       "      <td>&lt;START the &lt;UNK&gt; &lt;UNK&gt; at storytelling the tra...</td>\n",
       "      <td>positive</td>\n",
       "    </tr>\n",
       "    <tr>\n",
       "      <th>4</th>\n",
       "      <td>&lt;START worst mistake of my life br br i picked...</td>\n",
       "      <td>negative</td>\n",
       "    </tr>\n",
       "  </tbody>\n",
       "</table>\n",
       "</div>"
      ],
      "text/plain": [
       "                                             Reviews Sentiment\n",
       "0  <START this film was just brilliant casting lo...  positive\n",
       "1  <START big hair big boobs bad music and a gian...  negative\n",
       "2  <START this has to be one of the worst films o...  negative\n",
       "3  <START the <UNK> <UNK> at storytelling the tra...  positive\n",
       "4  <START worst mistake of my life br br i picked...  negative"
      ]
     },
     "metadata": {},
     "execution_count": 4
    }
   ],
   "metadata": {}
  },
  {
   "cell_type": "code",
   "execution_count": 5,
   "source": [
    "test_reviews.head()"
   ],
   "outputs": [
    {
     "output_type": "execute_result",
     "data": {
      "text/html": [
       "<div>\n",
       "<style scoped>\n",
       "    .dataframe tbody tr th:only-of-type {\n",
       "        vertical-align: middle;\n",
       "    }\n",
       "\n",
       "    .dataframe tbody tr th {\n",
       "        vertical-align: top;\n",
       "    }\n",
       "\n",
       "    .dataframe thead th {\n",
       "        text-align: right;\n",
       "    }\n",
       "</style>\n",
       "<table border=\"1\" class=\"dataframe\">\n",
       "  <thead>\n",
       "    <tr style=\"text-align: right;\">\n",
       "      <th></th>\n",
       "      <th>Reviews</th>\n",
       "      <th>Sentiment</th>\n",
       "    </tr>\n",
       "  </thead>\n",
       "  <tbody>\n",
       "    <tr>\n",
       "      <th>0</th>\n",
       "      <td>&lt;START please give this one a miss br br &lt;UNK&gt;...</td>\n",
       "      <td>negative</td>\n",
       "    </tr>\n",
       "    <tr>\n",
       "      <th>1</th>\n",
       "      <td>&lt;START this film requires a lot of patience be...</td>\n",
       "      <td>positive</td>\n",
       "    </tr>\n",
       "    <tr>\n",
       "      <th>2</th>\n",
       "      <td>&lt;START many animation buffs consider &lt;UNK&gt; &lt;UN...</td>\n",
       "      <td>positive</td>\n",
       "    </tr>\n",
       "    <tr>\n",
       "      <th>3</th>\n",
       "      <td>&lt;START i generally love this type of movie how...</td>\n",
       "      <td>negative</td>\n",
       "    </tr>\n",
       "    <tr>\n",
       "      <th>4</th>\n",
       "      <td>&lt;START like some other people wrote i'm a die ...</td>\n",
       "      <td>positive</td>\n",
       "    </tr>\n",
       "  </tbody>\n",
       "</table>\n",
       "</div>"
      ],
      "text/plain": [
       "                                             Reviews Sentiment\n",
       "0  <START please give this one a miss br br <UNK>...  negative\n",
       "1  <START this film requires a lot of patience be...  positive\n",
       "2  <START many animation buffs consider <UNK> <UN...  positive\n",
       "3  <START i generally love this type of movie how...  negative\n",
       "4  <START like some other people wrote i'm a die ...  positive"
      ]
     },
     "metadata": {},
     "execution_count": 5
    }
   ],
   "metadata": {}
  },
  {
   "cell_type": "markdown",
   "source": [
    "Preprocessing of the data"
   ],
   "metadata": {}
  },
  {
   "cell_type": "code",
   "execution_count": 6,
   "source": [
    "word_index=pd.read_csv('word_indexes.csv')"
   ],
   "outputs": [],
   "metadata": {}
  },
  {
   "cell_type": "code",
   "execution_count": 7,
   "source": [
    "word_index.head()"
   ],
   "outputs": [
    {
     "output_type": "execute_result",
     "data": {
      "text/html": [
       "<div>\n",
       "<style scoped>\n",
       "    .dataframe tbody tr th:only-of-type {\n",
       "        vertical-align: middle;\n",
       "    }\n",
       "\n",
       "    .dataframe tbody tr th {\n",
       "        vertical-align: top;\n",
       "    }\n",
       "\n",
       "    .dataframe thead th {\n",
       "        text-align: right;\n",
       "    }\n",
       "</style>\n",
       "<table border=\"1\" class=\"dataframe\">\n",
       "  <thead>\n",
       "    <tr style=\"text-align: right;\">\n",
       "      <th></th>\n",
       "      <th>Words</th>\n",
       "      <th>Indexes</th>\n",
       "    </tr>\n",
       "  </thead>\n",
       "  <tbody>\n",
       "    <tr>\n",
       "      <th>0</th>\n",
       "      <td>tsukino</td>\n",
       "      <td>52009</td>\n",
       "    </tr>\n",
       "    <tr>\n",
       "      <th>1</th>\n",
       "      <td>nunnery</td>\n",
       "      <td>52010</td>\n",
       "    </tr>\n",
       "    <tr>\n",
       "      <th>2</th>\n",
       "      <td>sonja</td>\n",
       "      <td>16819</td>\n",
       "    </tr>\n",
       "    <tr>\n",
       "      <th>3</th>\n",
       "      <td>vani</td>\n",
       "      <td>63954</td>\n",
       "    </tr>\n",
       "    <tr>\n",
       "      <th>4</th>\n",
       "      <td>woods</td>\n",
       "      <td>1411</td>\n",
       "    </tr>\n",
       "  </tbody>\n",
       "</table>\n",
       "</div>"
      ],
      "text/plain": [
       "     Words  Indexes\n",
       "0  tsukino    52009\n",
       "1  nunnery    52010\n",
       "2    sonja    16819\n",
       "3     vani    63954\n",
       "4    woods     1411"
      ]
     },
     "metadata": {},
     "execution_count": 7
    }
   ],
   "metadata": {}
  },
  {
   "cell_type": "markdown",
   "source": [
    "convert word indexes into a python dictionary,conversion from string to integer format so we can feed it to machine learning model."
   ],
   "metadata": {}
  },
  {
   "cell_type": "code",
   "execution_count": 8,
   "source": [
    "word_index=dict(zip(word_index.Words,word_index.Indexes))"
   ],
   "outputs": [],
   "metadata": {}
  },
  {
   "cell_type": "code",
   "execution_count": 9,
   "source": [
    "word_index[\"<PAD>\"]=0\r\n",
    "word_index[\"<START\"]=1\r\n",
    "word_index[\"<UNK>\"]=2\r\n",
    "word_index[\"<UNUSED>\"]=3"
   ],
   "outputs": [],
   "metadata": {}
  },
  {
   "cell_type": "markdown",
   "source": [
    "Create a function that encodes reviews into integer format"
   ],
   "metadata": {}
  },
  {
   "cell_type": "code",
   "execution_count": 10,
   "source": [
    "def review_encoder(text):\r\n",
    "    arr=[word_index[word] for word in text]\r\n",
    "    return arr"
   ],
   "outputs": [],
   "metadata": {}
  },
  {
   "cell_type": "markdown",
   "source": [
    "Before training the model we perform train test split "
   ],
   "metadata": {}
  },
  {
   "cell_type": "code",
   "execution_count": 11,
   "source": [
    "train_data,train_labels=imdb_reviews['Reviews'],imdb_reviews['Sentiment']\r\n",
    "test_data,test_labels=test_reviews['Reviews'],test_reviews['Sentiment']"
   ],
   "outputs": [],
   "metadata": {}
  },
  {
   "cell_type": "code",
   "execution_count": 12,
   "source": [
    "train_data=train_data.apply(lambda review:review.split())\r\n",
    "test_data=test_data.apply(lambda review:review.split())"
   ],
   "outputs": [],
   "metadata": {}
  },
  {
   "cell_type": "code",
   "execution_count": 13,
   "source": [
    "train_data=train_data.apply(review_encoder)\r\n",
    "test_data=test_data.apply(review_encoder)"
   ],
   "outputs": [],
   "metadata": {}
  },
  {
   "cell_type": "code",
   "execution_count": 14,
   "source": [
    "# now check our train dataset\r\n",
    "\r\n",
    "train_data.head()"
   ],
   "outputs": [
    {
     "output_type": "execute_result",
     "data": {
      "text/plain": [
       "0    [1, 14, 22, 16, 43, 530, 973, 1622, 1385, 65, ...\n",
       "1    [1, 194, 1153, 194, 8255, 78, 228, 5, 6, 1463,...\n",
       "2    [1, 14, 47, 8, 30, 31, 7, 4, 249, 108, 7, 4, 5...\n",
       "3    [1, 4, 2, 2, 33, 2804, 4, 2040, 432, 111, 153,...\n",
       "4    [1, 249, 1323, 7, 61, 113, 10, 10, 13, 1637, 1...\n",
       "Name: Reviews, dtype: object"
      ]
     },
     "metadata": {},
     "execution_count": 14
    }
   ],
   "metadata": {}
  },
  {
   "cell_type": "markdown",
   "source": [
    "Now encode positive sentiment as 1 and negative sentiment as 0"
   ],
   "metadata": {}
  },
  {
   "cell_type": "code",
   "execution_count": 20,
   "source": [
    "def encode_sentiments(x):\r\n",
    "  if x=='positive':\r\n",
    "      return 1\r\n",
    "  else:\r\n",
    "      return 0"
   ],
   "outputs": [],
   "metadata": {}
  },
  {
   "cell_type": "code",
   "execution_count": 21,
   "source": [
    "train_labels=train_labels.apply(encode_sentiments)\r\n",
    "test_labels=test_labels.apply(encode_sentiments)"
   ],
   "outputs": [],
   "metadata": {}
  },
  {
   "cell_type": "code",
   "execution_count": 22,
   "source": [
    "train_data=keras.preprocessing.sequence.pad_sequences(train_data,value=word_index[\"<PAD>\"],padding='post',maxlen=500)\r\n",
    "test_data=keras.preprocessing.sequence.pad_sequences(test_data,value=word_index[\"<PAD>\"],padding='post',maxlen=500)"
   ],
   "outputs": [],
   "metadata": {}
  },
  {
   "cell_type": "markdown",
   "source": [
    "Now its time to build the model using neural networks"
   ],
   "metadata": {}
  },
  {
   "cell_type": "code",
   "execution_count": 24,
   "source": [
    "model=keras.Sequential([keras.layers.Embedding(10000,16,input_length=500),\r\n",
    "                        keras.layers.GlobalAveragePooling1D(),\r\n",
    "                        keras.layers.Dense(16,activation='relu'),\r\n",
    "                        keras.layers.Dense(1,activation='sigmoid')])"
   ],
   "outputs": [],
   "metadata": {}
  },
  {
   "cell_type": "code",
   "execution_count": 25,
   "source": [
    "#compile the model using adam optimizer\r\n",
    "model.compile(optimizer='adam',loss='binary_crossentropy',metrics=['accuracy'])"
   ],
   "outputs": [],
   "metadata": {}
  },
  {
   "cell_type": "code",
   "execution_count": 26,
   "source": [
    "#training the model\r\n",
    "history=model.fit(train_data,train_labels,epochs=30,batch_size=512,validation_data=(test_data,test_labels))"
   ],
   "outputs": [
    {
     "output_type": "stream",
     "name": "stdout",
     "text": [
      "Epoch 1/30\n",
      "49/49 [==============================] - 3s 46ms/step - loss: 0.6917 - accuracy: 0.5110 - val_loss: 0.6897 - val_accuracy: 0.6712\n",
      "Epoch 2/30\n",
      "49/49 [==============================] - 2s 42ms/step - loss: 0.6838 - accuracy: 0.7059 - val_loss: 0.6777 - val_accuracy: 0.7226\n",
      "Epoch 3/30\n",
      "49/49 [==============================] - 2s 41ms/step - loss: 0.6636 - accuracy: 0.7275 - val_loss: 0.6507 - val_accuracy: 0.7544\n",
      "Epoch 4/30\n",
      "49/49 [==============================] - 2s 42ms/step - loss: 0.6248 - accuracy: 0.7698 - val_loss: 0.6069 - val_accuracy: 0.7841\n",
      "Epoch 5/30\n",
      "49/49 [==============================] - 2s 44ms/step - loss: 0.5709 - accuracy: 0.8086 - val_loss: 0.5544 - val_accuracy: 0.7980\n",
      "Epoch 6/30\n",
      "49/49 [==============================] - 2s 43ms/step - loss: 0.5115 - accuracy: 0.8345 - val_loss: 0.5011 - val_accuracy: 0.8293\n",
      "Epoch 7/30\n",
      "49/49 [==============================] - 2s 43ms/step - loss: 0.4552 - accuracy: 0.8543 - val_loss: 0.4543 - val_accuracy: 0.8420\n",
      "Epoch 8/30\n",
      "49/49 [==============================] - 2s 42ms/step - loss: 0.4074 - accuracy: 0.8690 - val_loss: 0.4163 - val_accuracy: 0.8512\n",
      "Epoch 9/30\n",
      "49/49 [==============================] - 2s 41ms/step - loss: 0.3702 - accuracy: 0.8766 - val_loss: 0.3891 - val_accuracy: 0.8545\n",
      "Epoch 10/30\n",
      "49/49 [==============================] - 2s 42ms/step - loss: 0.3409 - accuracy: 0.8828 - val_loss: 0.3659 - val_accuracy: 0.8646\n",
      "Epoch 11/30\n",
      "49/49 [==============================] - 2s 40ms/step - loss: 0.3156 - accuracy: 0.8919 - val_loss: 0.3492 - val_accuracy: 0.8686\n",
      "Epoch 12/30\n",
      "49/49 [==============================] - 2s 41ms/step - loss: 0.2961 - accuracy: 0.8981 - val_loss: 0.3361 - val_accuracy: 0.8720\n",
      "Epoch 13/30\n",
      "49/49 [==============================] - 2s 41ms/step - loss: 0.2795 - accuracy: 0.9027 - val_loss: 0.3260 - val_accuracy: 0.8741\n",
      "Epoch 14/30\n",
      "49/49 [==============================] - 2s 44ms/step - loss: 0.2645 - accuracy: 0.9082 - val_loss: 0.3165 - val_accuracy: 0.8769\n",
      "Epoch 15/30\n",
      "49/49 [==============================] - 2s 40ms/step - loss: 0.2520 - accuracy: 0.9126 - val_loss: 0.3095 - val_accuracy: 0.8792\n",
      "Epoch 16/30\n",
      "49/49 [==============================] - 2s 40ms/step - loss: 0.2410 - accuracy: 0.9157 - val_loss: 0.3039 - val_accuracy: 0.8804\n",
      "Epoch 17/30\n",
      "49/49 [==============================] - 2s 40ms/step - loss: 0.2312 - accuracy: 0.9192 - val_loss: 0.2993 - val_accuracy: 0.8818\n",
      "Epoch 18/30\n",
      "49/49 [==============================] - 2s 40ms/step - loss: 0.2219 - accuracy: 0.9226 - val_loss: 0.2953 - val_accuracy: 0.8832\n",
      "Epoch 19/30\n",
      "49/49 [==============================] - 2s 40ms/step - loss: 0.2139 - accuracy: 0.9264 - val_loss: 0.2941 - val_accuracy: 0.8831\n",
      "Epoch 20/30\n",
      "49/49 [==============================] - 2s 40ms/step - loss: 0.2053 - accuracy: 0.9290 - val_loss: 0.2901 - val_accuracy: 0.8846\n",
      "Epoch 21/30\n",
      "49/49 [==============================] - 2s 40ms/step - loss: 0.1986 - accuracy: 0.9314 - val_loss: 0.2891 - val_accuracy: 0.8840\n",
      "Epoch 22/30\n",
      "49/49 [==============================] - 2s 40ms/step - loss: 0.1918 - accuracy: 0.9345 - val_loss: 0.2877 - val_accuracy: 0.8857\n",
      "Epoch 23/30\n",
      "49/49 [==============================] - 2s 40ms/step - loss: 0.1855 - accuracy: 0.9375 - val_loss: 0.2872 - val_accuracy: 0.8861\n",
      "Epoch 24/30\n",
      "49/49 [==============================] - 2s 43ms/step - loss: 0.1797 - accuracy: 0.9386 - val_loss: 0.2868 - val_accuracy: 0.8865\n",
      "Epoch 25/30\n",
      "49/49 [==============================] - 2s 40ms/step - loss: 0.1741 - accuracy: 0.9412 - val_loss: 0.2860 - val_accuracy: 0.8862\n",
      "Epoch 26/30\n",
      "49/49 [==============================] - 2s 40ms/step - loss: 0.1686 - accuracy: 0.9440 - val_loss: 0.2858 - val_accuracy: 0.8860\n",
      "Epoch 27/30\n",
      "49/49 [==============================] - 2s 40ms/step - loss: 0.1638 - accuracy: 0.9450 - val_loss: 0.2875 - val_accuracy: 0.8858\n",
      "Epoch 28/30\n",
      "49/49 [==============================] - 2s 40ms/step - loss: 0.1592 - accuracy: 0.9474 - val_loss: 0.2870 - val_accuracy: 0.8860\n",
      "Epoch 29/30\n",
      "49/49 [==============================] - 2s 41ms/step - loss: 0.1549 - accuracy: 0.9481 - val_loss: 0.2887 - val_accuracy: 0.8856\n",
      "Epoch 30/30\n",
      "49/49 [==============================] - 2s 40ms/step - loss: 0.1504 - accuracy: 0.9504 - val_loss: 0.2914 - val_accuracy: 0.8856\n"
     ]
    }
   ],
   "metadata": {}
  },
  {
   "cell_type": "markdown",
   "source": [
    "now its time to evaluate loss and accuracy on test data"
   ],
   "metadata": {}
  },
  {
   "cell_type": "code",
   "execution_count": 27,
   "source": [
    "loss,accuracy=model.evaluate(test_data,test_labels)"
   ],
   "outputs": [
    {
     "output_type": "stream",
     "name": "stdout",
     "text": [
      "782/782 [==============================] - 1s 1ms/step - loss: 0.2914 - accuracy: 0.8856\n"
     ]
    }
   ],
   "metadata": {}
  },
  {
   "cell_type": "markdown",
   "source": [
    "Our model is giving accuracy of 88.56% on testing data."
   ],
   "metadata": {}
  },
  {
   "cell_type": "code",
   "execution_count": 28,
   "source": [
    "#now take a random input from test data and check whether our model give correct output\r\n",
    "\r\n",
    "index=np.random.randint(1,1000)\r\n",
    "user_review=test_reviews.loc[index]\r\n",
    "print(user_review)"
   ],
   "outputs": [
    {
     "output_type": "stream",
     "name": "stdout",
     "text": [
      "Reviews      <START i think it was a pretty good film it sh...\n",
      "Sentiment                                             positive\n",
      "Name: 824, dtype: object\n"
     ]
    }
   ],
   "metadata": {}
  },
  {
   "cell_type": "code",
   "execution_count": 29,
   "source": [
    "user_review=test_data[index]\r\n",
    "user_review=np.array([user_review])\r\n",
    "if (model.predict(user_review)>0.5).astype(\"int32\"):\r\n",
    "  print(\"positive sentiment\")\r\n",
    "else:\r\n",
    "  print(\"negative sentiment\")\r\n"
   ],
   "outputs": [
    {
     "output_type": "stream",
     "name": "stdout",
     "text": [
      "positive sentiment\n"
     ]
    }
   ],
   "metadata": {}
  },
  {
   "cell_type": "markdown",
   "source": [
    "From these above two results we can say our model can correctly predict the sentiment of the review."
   ],
   "metadata": {}
  }
 ],
 "metadata": {
  "orig_nbformat": 4,
  "language_info": {
   "name": "python",
   "version": "3.8.5",
   "mimetype": "text/x-python",
   "codemirror_mode": {
    "name": "ipython",
    "version": 3
   },
   "pygments_lexer": "ipython3",
   "nbconvert_exporter": "python",
   "file_extension": ".py"
  },
  "kernelspec": {
   "name": "python3",
   "display_name": "Python 3.8.5 64-bit ('base': conda)"
  },
  "interpreter": {
   "hash": "183bbf6827d058c2a2fb0f4acdc0420849dda2b4380af0e437e38c64d798d8b7"
  }
 },
 "nbformat": 4,
 "nbformat_minor": 2
}